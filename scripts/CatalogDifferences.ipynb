{
 "cells": [
  {
   "cell_type": "code",
   "execution_count": 6,
   "metadata": {},
   "outputs": [],
   "source": [
    "import pandas as pd\n",
    "STRchive = pd.read_json('/Users/quinlan/Documents/Git/STRchive_manuscript/data/STRchive-database.json')\n",
    "gnomAD = pd.read_json('/Users/quinlan/Documents/Git/STRchive_manuscript/data/gnomADcatalog1.json')\n",
    "# Rename 'Gene' column to 'gene' in gnomAD DataFrame\n",
    "gnomAD.rename(columns={'Gene': 'gene'}, inplace=True)\n",
    "\n"
   ]
  },
  {
   "cell_type": "code",
   "execution_count": 7,
   "metadata": {},
   "outputs": [],
   "source": [
    "# Filter gnomAD and STRchive DataFrames to keep only rows with gene values present in both\n",
    "common_genes = set(gnomAD['gene']).intersection(set(STRchive['gene']))\n",
    "gnomAD_filtered = gnomAD[gnomAD['gene'].isin(common_genes)]\n",
    "STRchive_filtered = STRchive[STRchive['gene'].isin(common_genes)]\n"
   ]
  },
  {
   "cell_type": "code",
   "execution_count": 10,
   "metadata": {},
   "outputs": [],
   "source": [
    "gene_count = {}\n",
    "\n",
    "# Iterate through the 'gene' column\n",
    "for index, row in STRchive_filtered.iterrows():\n",
    "    gene = row['gene']\n",
    "    # Check if the gene has occurred before\n",
    "    if gene in gene_count:\n",
    "        # Increment the count for this gene\n",
    "        gene_count[gene] += 1\n",
    "        # Rename the gene with a numeric suffix\n",
    "        STRchive_filtered.loc[index, 'gene'] = f\"{gene}_{gene_count[gene]}\"\n",
    "    else:\n",
    "        # Initialize count for this gene\n",
    "        gene_count[gene] = 1"
   ]
  },
  {
   "cell_type": "code",
   "execution_count": 11,
   "metadata": {},
   "outputs": [],
   "source": [
    "gene_count = {}\n",
    "\n",
    "# Iterate through the 'gene' column\n",
    "for index, row in gnomAD_filtered.iterrows():\n",
    "    gene = row['gene']\n",
    "    # Check if the gene has occurred before\n",
    "    if gene in gene_count:\n",
    "        # Increment the count for this gene\n",
    "        gene_count[gene] += 1\n",
    "        # Rename the gene with a numeric suffix\n",
    "        gnomAD_filtered.loc[index, 'gene'] = f\"{gene}_{gene_count[gene]}\"\n",
    "    else:\n",
    "        # Initialize count for this gene\n",
    "        gene_count[gene] = 1"
   ]
  },
  {
   "cell_type": "code",
   "execution_count": 12,
   "metadata": {},
   "outputs": [
    {
     "name": "stderr",
     "output_type": "stream",
     "text": [
      "/var/folders/kx/jkrbpc3n5lggz22pmw8lghth0000gp/T/ipykernel_83994/2032255851.py:2: SettingWithCopyWarning: \n",
      "A value is trying to be set on a copy of a slice from a DataFrame.\n",
      "Try using .loc[row_indexer,col_indexer] = value instead\n",
      "\n",
      "See the caveats in the documentation: https://pandas.pydata.org/pandas-docs/stable/user_guide/indexing.html#returning-a-view-versus-a-copy\n",
      "  STRchive_filtered['ReferenceRegion'] = STRchive_filtered['chrom'] + ':' + \\\n"
     ]
    }
   ],
   "source": [
    "# Create ReferenceRegion column\n",
    "STRchive_filtered['ReferenceRegion'] = STRchive_filtered['chrom'] + ':' + \\\n",
    "                                       STRchive_filtered['start_hg38'].astype(str) + '-' + \\\n",
    "                                       STRchive_filtered['stop_hg38'].astype(str)\n"
   ]
  },
  {
   "cell_type": "code",
   "execution_count": 13,
   "metadata": {},
   "outputs": [],
   "source": [
    "# Select only 'gene' and 'ReferenceRegion' columns from gnomAD_filtered DataFrame\n",
    "gnomAD_filtered = gnomAD_filtered[['gene', 'MainReferenceRegion']]\n",
    "gnomAD_filtered.rename(columns={'MainReferenceRegion': 'ReferenceRegion'}, inplace=True)\n",
    "# Select only 'gene' and 'ReferenceRegion' columns from STRchive_filtered DataFrame\n",
    "STRchive_filtered = STRchive_filtered[['gene', 'ReferenceRegion']]\n"
   ]
  },
  {
   "cell_type": "code",
   "execution_count": 14,
   "metadata": {},
   "outputs": [],
   "source": [
    "# same ReferenceRegion\n",
    "merged_df = gnomAD_filtered[gnomAD_filtered['ReferenceRegion'].isin(STRchive_filtered['ReferenceRegion'])]\n",
    "# 27 loci are the same\n"
   ]
  },
  {
   "cell_type": "code",
   "execution_count": 15,
   "metadata": {},
   "outputs": [
    {
     "name": "stderr",
     "output_type": "stream",
     "text": [
      "/var/folders/kx/jkrbpc3n5lggz22pmw8lghth0000gp/T/ipykernel_83994/273072076.py:2: SettingWithCopyWarning: \n",
      "A value is trying to be set on a copy of a slice from a DataFrame.\n",
      "Try using .loc[row_indexer,col_indexer] = value instead\n",
      "\n",
      "See the caveats in the documentation: https://pandas.pydata.org/pandas-docs/stable/user_guide/indexing.html#returning-a-view-versus-a-copy\n",
      "  STRchive_filtered[['chrom', 'start', 'stop']] = STRchive_filtered['ReferenceRegion'].str.extract(r'(chr\\d+|chrX):(\\d+)-(\\d+)')\n",
      "/var/folders/kx/jkrbpc3n5lggz22pmw8lghth0000gp/T/ipykernel_83994/273072076.py:2: SettingWithCopyWarning: \n",
      "A value is trying to be set on a copy of a slice from a DataFrame.\n",
      "Try using .loc[row_indexer,col_indexer] = value instead\n",
      "\n",
      "See the caveats in the documentation: https://pandas.pydata.org/pandas-docs/stable/user_guide/indexing.html#returning-a-view-versus-a-copy\n",
      "  STRchive_filtered[['chrom', 'start', 'stop']] = STRchive_filtered['ReferenceRegion'].str.extract(r'(chr\\d+|chrX):(\\d+)-(\\d+)')\n",
      "/var/folders/kx/jkrbpc3n5lggz22pmw8lghth0000gp/T/ipykernel_83994/273072076.py:2: SettingWithCopyWarning: \n",
      "A value is trying to be set on a copy of a slice from a DataFrame.\n",
      "Try using .loc[row_indexer,col_indexer] = value instead\n",
      "\n",
      "See the caveats in the documentation: https://pandas.pydata.org/pandas-docs/stable/user_guide/indexing.html#returning-a-view-versus-a-copy\n",
      "  STRchive_filtered[['chrom', 'start', 'stop']] = STRchive_filtered['ReferenceRegion'].str.extract(r'(chr\\d+|chrX):(\\d+)-(\\d+)')\n"
     ]
    }
   ],
   "source": [
    "gnomAD_filtered[['chrom', 'start', 'stop']] = gnomAD_filtered['ReferenceRegion'].str.extract(r'(chr\\d+|chrX):(\\d+)-(\\d+)')\n",
    "STRchive_filtered[['chrom', 'start', 'stop']] = STRchive_filtered['ReferenceRegion'].str.extract(r'(chr\\d+|chrX):(\\d+)-(\\d+)')\n",
    "\n"
   ]
  },
  {
   "cell_type": "code",
   "execution_count": 16,
   "metadata": {},
   "outputs": [],
   "source": [
    "merged_df = pd.merge(gnomAD_filtered, STRchive_filtered, on='gene', suffixes=('_gnomAD', '_STRchive'), how='inner')\n"
   ]
  },
  {
   "cell_type": "code",
   "execution_count": 17,
   "metadata": {},
   "outputs": [
    {
     "name": "stdout",
     "output_type": "stream",
     "text": [
      "Gene: ABCD3, Start Difference: 1, Stop Difference: 2\n",
      "Gene: AFF2, Start Difference: -26, Stop Difference: 62\n",
      "Gene: AFF3, Start Difference: 1, Stop Difference: 2\n",
      "Gene: AR, Start Difference: 1, Stop Difference: 34\n",
      "Gene: ARX, Start Difference: 0, Stop Difference: 0\n",
      "Gene: ARX_2, Start Difference: 1, Stop Difference: 0\n",
      "Gene: ATN1, Start Difference: 1, Stop Difference: 2\n",
      "Gene: ATXN1, Start Difference: 1, Stop Difference: 1\n",
      "Gene: ATXN10, Start Difference: 1, Stop Difference: 0\n",
      "Gene: ATXN2, Start Difference: 1, Stop Difference: 1\n",
      "Gene: ATXN3, Start Difference: 2, Stop Difference: 13\n",
      "Gene: ATXN7, Start Difference: 1, Stop Difference: 2\n",
      "Gene: BEAN1, Start Difference: -1, Stop Difference: 13\n",
      "Gene: C9orf72, Start Difference: -44, Stop Difference: 0\n",
      "Gene: CACNA1A, Start Difference: 1, Stop Difference: 1\n",
      "Gene: CBL, Start Difference: 0, Stop Difference: 0\n",
      "Gene: CNBP, Start Difference: 1, Stop Difference: 3\n",
      "Gene: COMP, Start Difference: 0, Stop Difference: 0\n",
      "Gene: CSTB, Start Difference: 0, Stop Difference: 0\n",
      "Gene: DAB1, Start Difference: 1, Stop Difference: 7\n",
      "Gene: DIP2B, Start Difference: 1, Stop Difference: 0\n",
      "Gene: DMD, Start Difference: 0, Stop Difference: 0\n",
      "Gene: DMPK, Start Difference: 0, Stop Difference: 2\n",
      "Gene: EIF4A3, Start Difference: 0, Stop Difference: 0\n",
      "Gene: FGF14, Start Difference: 3, Stop Difference: 2\n",
      "Gene: FMR1, Start Difference: -13, Stop Difference: 1\n",
      "Gene: FOXL2, Start Difference: 0, Stop Difference: 0\n",
      "Gene: FXN, Start Difference: 0, Stop Difference: 0\n",
      "Gene: GIPC1, Start Difference: 0, Stop Difference: 0\n",
      "Gene: GLS, Start Difference: 1, Stop Difference: 0\n",
      "Gene: HOXA13, Start Difference: 0, Stop Difference: 0\n",
      "Gene: HOXA13_2, Start Difference: 0, Stop Difference: 0\n",
      "Gene: HOXA13_3, Start Difference: 0, Stop Difference: 0\n",
      "Gene: HOXD13, Start Difference: 0, Stop Difference: 0\n",
      "Gene: HTT, Start Difference: 1, Stop Difference: 7\n",
      "Gene: JPH3, Start Difference: -4, Stop Difference: 0\n",
      "Gene: LRP12, Start Difference: 2, Stop Difference: 2\n",
      "Gene: MARCHF6, Start Difference: -7, Stop Difference: 0\n",
      "Gene: NIPA1, Start Difference: 0, Stop Difference: 0\n",
      "Gene: NOP56, Start Difference: 0, Stop Difference: 0\n",
      "Gene: NOTCH2NLC, Start Difference: 1, Stop Difference: 1\n",
      "Gene: PABPN1, Start Difference: 0, Stop Difference: 12\n",
      "Gene: PHOX2B, Start Difference: 0, Stop Difference: 0\n",
      "Gene: PPP2R2B, Start Difference: 1, Stop Difference: 2\n",
      "Gene: PRDM12, Start Difference: 0, Stop Difference: 0\n",
      "Gene: PRNP, Start Difference: 0, Stop Difference: 0\n",
      "Gene: RAPGEF2, Start Difference: 1, Stop Difference: 2\n",
      "Gene: RFC1, Start Difference: 1, Stop Difference: 4\n",
      "Gene: RILPL1, Start Difference: 0, Stop Difference: 5\n",
      "Gene: RUNX2, Start Difference: 0, Stop Difference: 0\n",
      "Gene: SAMD12, Start Difference: 1, Stop Difference: 0\n",
      "Gene: SOX3, Start Difference: 0, Stop Difference: 0\n",
      "Gene: STARD7, Start Difference: 1, Stop Difference: 0\n",
      "Gene: TBP, Start Difference: 1, Stop Difference: 0\n",
      "Gene: TBX1, Start Difference: 0, Stop Difference: 0\n",
      "Gene: TCF4, Start Difference: 0, Stop Difference: 0\n",
      "Gene: THAP11, Start Difference: 0, Stop Difference: 0\n",
      "Gene: TNRC6A, Start Difference: 0, Stop Difference: 3\n",
      "Gene: VWA1, Start Difference: 0, Stop Difference: 0\n",
      "Gene: XYLT1, Start Difference: 0, Stop Difference: 0\n",
      "Gene: YEATS2, Start Difference: 1, Stop Difference: 0\n",
      "Gene: ZFHX3, Start Difference: 1, Stop Difference: 1\n",
      "Gene: ZIC2, Start Difference: 0, Stop Difference: 0\n",
      "Gene: ZIC3, Start Difference: 0, Stop Difference: 0\n",
      "Gene: ZNF713, Start Difference: 1, Stop Difference: 0\n"
     ]
    }
   ],
   "source": [
    "# Convert start and stop columns to numeric type\n",
    "merged_df['start_gnomAD'] = pd.to_numeric(merged_df['start_gnomAD'])\n",
    "merged_df['stop_gnomAD'] = pd.to_numeric(merged_df['stop_gnomAD'])\n",
    "merged_df['start_STRchive'] = pd.to_numeric(merged_df['start_STRchive'])\n",
    "merged_df['stop_STRchive'] = pd.to_numeric(merged_df['stop_STRchive'])\n",
    "\n",
    "# Calculate the differences\n",
    "merged_df['start_difference'] = merged_df['start_STRchive'] - merged_df['start_gnomAD']\n",
    "merged_df['stop_difference'] = merged_df['stop_STRchive'] - merged_df['stop_gnomAD']\n",
    "\n",
    "# Print the results with the gene name\n",
    "for index, row in merged_df.iterrows():\n",
    "    print(f\"Gene: {row['gene']}, Start Difference: {row['start_difference']}, Stop Difference: {row['stop_difference']}\")\n"
   ]
  }
 ],
 "metadata": {
  "kernelspec": {
   "display_name": "Python 3",
   "language": "python",
   "name": "python3"
  },
  "language_info": {
   "codemirror_mode": {
    "name": "ipython",
    "version": 3
   },
   "file_extension": ".py",
   "mimetype": "text/x-python",
   "name": "python",
   "nbconvert_exporter": "python",
   "pygments_lexer": "ipython3",
   "version": "3.10.9"
  }
 },
 "nbformat": 4,
 "nbformat_minor": 2
}
